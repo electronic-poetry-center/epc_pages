{
 "cells": [
  {
   "cell_type": "code",
   "execution_count": null,
   "metadata": {},
   "outputs": [],
   "source": [
    "import requests\n",
    "import time\n",
    "import os\n",
    "import numpy as np\n",
    "import subprocess\n",
    "from operator import itemgetter\n",
    "import glob\n",
    "import random\n",
    "import fnmatch\n",
    "import itertools\n",
    "from bs4 import BeautifulSoup\n",
    "from urllib.request import urlopen\n",
    "\n",
    "epc_pathname = '/media/smcl/Audio/epc_pages/writing.upenn.edu_08_06_2018_151036/'\n",
    "\n",
    "os.chdir(epc_pathname)"
   ]
  },
  {
   "cell_type": "code",
   "execution_count": null,
   "metadata": {},
   "outputs": [],
   "source": [
    "def find_paths(dir_path, extension_list):\n",
    "    media_paths = []\n",
    "    for root, dirnames, filenames in os.walk(dir_path):\n",
    "        for filename in fnmatch.filter(filenames, '*'):\n",
    "            media_paths.append(os.path.join(root, filename))\n",
    "    media_paths = [item for item in media_paths if item.split('.')[-1].lower() in extension_list]\n",
    "    return media_paths\n",
    "\n",
    "\n",
    "html_paths = find_paths('./', ['html','php','htm'])\n",
    "\n",
    "html_paths = sorted(list(set(html_paths)))\n",
    "\n",
    "len(html_paths)"
   ]
  },
  {
   "cell_type": "code",
   "execution_count": null,
   "metadata": {
    "scrolled": true
   },
   "outputs": [],
   "source": [
    "#%%time\n",
    "\n",
    "## Checking all links\n",
    "\n",
    "import csv\n",
    "\n",
    "os.chdir(epc_pathname)\n",
    "\n",
    "header = ['url', 'linked from', 'server response', 'redirect link']\n",
    "\n",
    "error_pages = []\n",
    "broken_links = []\n",
    "\n",
    "repo_pathname = '/media/smcl/Audio/epc_pages/'\n",
    "\n",
    "counter = 0\n",
    "\n",
    "with open(os.path.join(repo_pathname, 'EPC_Link_Status_Table.csv'), 'w') as fo:\n",
    "    csv_writer = csv.writer(fo)\n",
    "    csv_writer.writerow(header)\n",
    "\n",
    "for html_path in html_paths:\n",
    "    if counter%50 == 0:\n",
    "        print(counter)\n",
    "    counter+=1\n",
    "    try:\n",
    "        page = open(html_path).read()\n",
    "    except:\n",
    "        try:\n",
    "            page = page.decode('utf8')\n",
    "        except:\n",
    "            error_pages.append(html_path)\n",
    "    #except: pass\n",
    "    try:\n",
    "        soup = BeautifulSoup(page, 'lxml')\n",
    "        for link in soup.find_all('a'):\n",
    "            url = link['href']\n",
    "            if url[:5] == '/epc/':\n",
    "                url = url.replace('/epc/', 'https://writing.upenn.edu/epc/')\n",
    "            if url[:6] == './epc/':\n",
    "                url = url.replace('./epc/', 'https://writing.upenn.edu/epc/')\n",
    "            if 'http' in url:\n",
    "                time.sleep(0.03)\n",
    "                redirect_link = ''\n",
    "                r = ''\n",
    "                try:\n",
    "                    r = requests.head(url)\n",
    "                    if r.status_code in (301, 302, 303, 304):\n",
    "                        try:\n",
    "                            redirect_link = r.headers['Location'] ######## <-------------------\n",
    "                        except: \n",
    "                            pass\n",
    "                    row = [url, html_path.replace('./epc/','/epc/'), str(r.status_code), redirect_link]\n",
    "                    with open(os.path.join(repo_pathname, 'EPC_Link_Status_Table.csv'), 'a') as fo:\n",
    "                        csv_writer = csv.writer(fo)\n",
    "                        csv_writer.writerow(row)\n",
    "                except requests.ConnectionError as e:\n",
    "                    broken_links.append(url)\n",
    "                    row = [url, html_path.replace('./epc/','/epc/'), 'dead', '']\n",
    "                    csv_writer.writerow(row)\n",
    "                time.sleep(0.01)\n",
    "    except Exception as e:\n",
    "        error_pages.append(html_path)\n",
    "\n"
   ]
  },
  {
   "cell_type": "code",
   "execution_count": null,
   "metadata": {},
   "outputs": [],
   "source": []
  },
  {
   "cell_type": "code",
   "execution_count": null,
   "metadata": {},
   "outputs": [],
   "source": []
  }
 ],
 "metadata": {
  "kernelspec": {
   "display_name": "Python 3",
   "language": "python",
   "name": "python3"
  },
  "language_info": {
   "codemirror_mode": {
    "name": "ipython",
    "version": 3
   },
   "file_extension": ".py",
   "mimetype": "text/x-python",
   "name": "python",
   "nbconvert_exporter": "python",
   "pygments_lexer": "ipython3",
   "version": "3.6.5"
  }
 },
 "nbformat": 4,
 "nbformat_minor": 2
}
