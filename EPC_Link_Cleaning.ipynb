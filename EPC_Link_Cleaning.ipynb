{
 "cells": [
  {
   "cell_type": "code",
   "execution_count": 1,
   "metadata": {},
   "outputs": [
    {
     "name": "stdout",
     "output_type": "stream",
     "text": [
      "EPC_Link_Check_Script.ipynb   LICENSE\r\n",
      "EPC_Link_Cleaning.ipynb       README.md\r\n",
      "EPC_Link_Status_Table.csv     writing.upenn.edu_08_06_2018_151036\r\n",
      "Global_Replacement_Table.csv\r\n"
     ]
    }
   ],
   "source": [
    "import requests\n",
    "import time\n",
    "import os\n",
    "import numpy as np\n",
    "import subprocess\n",
    "from operator import itemgetter\n",
    "import glob\n",
    "import random\n",
    "import fnmatch\n",
    "import itertools\n",
    "from bs4 import BeautifulSoup\n",
    "from urllib.request import urlopen\n",
    "\n",
    "repo_pathname = '/media/smcl/Audio/epc_pages/'\n",
    "\n",
    "os.chdir(repo_pathname)\n",
    "\n",
    "!ls"
   ]
  },
  {
   "cell_type": "code",
   "execution_count": 2,
   "metadata": {},
   "outputs": [
    {
     "data": {
      "text/plain": [
       "4604"
      ]
     },
     "execution_count": 2,
     "metadata": {},
     "output_type": "execute_result"
    }
   ],
   "source": [
    "import csv\n",
    "\n",
    "urls_lol = []\n",
    "\n",
    "row_set = set()\n",
    "\n",
    "with open('EPC_Link_Status_Table.csv') as fi:\n",
    "    csv_reader = csv.reader(fi)\n",
    "    for row in csv_reader:\n",
    "        if '|'.join(row[:2]) not in row_set:   ### Removing duplicates\n",
    "            urls_lol.append(row)\n",
    "            row_set.add('|'.join(row[:2]))\n",
    "\n",
    "header = urls_lol[0]\n",
    "urls_lol = urls_lol[1:]        \n",
    "\n",
    "len(urls_lol)"
   ]
  },
  {
   "cell_type": "code",
   "execution_count": 4,
   "metadata": {},
   "outputs": [
    {
     "name": "stdout",
     "output_type": "stream",
     "text": [
      "['url', 'linked from', 'server response', 'redirect link', 'replacement link']\n"
     ]
    },
    {
     "data": {
      "text/plain": [
       "['http://www.shearsman.com/pages/books/catalog/2011/samuelsGC.html',\n",
       " '/epc/authors/samuels/samuels_books.html',\n",
       " '301',\n",
       " 'https://www.shearsman.com/pages/books/catalog/2011/samuelsGC.html',\n",
       " '']"
      ]
     },
     "execution_count": 4,
     "metadata": {},
     "output_type": "execute_result"
    }
   ],
   "source": [
    "print(header)\n",
    "\n",
    "random.choice(urls_lol)"
   ]
  },
  {
   "cell_type": "code",
   "execution_count": null,
   "metadata": {},
   "outputs": [],
   "source": [
    "import csv\n",
    "\n",
    "urls_404 = []\n",
    "\n",
    "for row in urls_lol:\n",
    "    if row[2] in ('404', 'dead'):\n",
    "        urls_404.append(row[0])\n",
    "\n",
    "urls_404 = sorted(urls_404)\n",
    "            \n",
    "len(urls_404)"
   ]
  },
  {
   "cell_type": "code",
   "execution_count": 5,
   "metadata": {},
   "outputs": [
    {
     "data": {
      "text/plain": [
       "73"
      ]
     },
     "execution_count": 5,
     "metadata": {},
     "output_type": "execute_result"
    }
   ],
   "source": [
    "import csv\n",
    "\n",
    "urls_403 = []\n",
    "\n",
    "for row in urls_lol:\n",
    "    if row[2] in ('403'):\n",
    "        urls_403.append(row[0])\n",
    "\n",
    "urls_403 = sorted(urls_403)\n",
    "            \n",
    "len(urls_403)"
   ]
  },
  {
   "cell_type": "code",
   "execution_count": null,
   "metadata": {},
   "outputs": [
    {
     "name": "stdout",
     "output_type": "stream",
     "text": [
      "http://web.archive.org/web/20061023084028/http://www.durationpress.com:80/crayon/\n",
      "HTTP Error 400: Bad Request\n",
      "https://archive.org/wayback/available?url=http://primo.getty.edu/primo_library/libweb/action/search.do?vl(freeText0)= David + Antin +papers&vl(21781791UI0)=lsr34&vl(96033584UI1)=all_items&vl(1UIStartWith0)=exact&fn=search&tab=all_gri&mode=Basic&vid=GRI&scp.scps=scope:(GETTY_ROSETTA)&ct=lateralLinking\n",
      "http://web.archive.org/web/20061023084028/http://www.durationpress.com:80/crayon/\n",
      "http://web.archive.org/web/20130704173504/http://www.tabletmag.com/arts-and-culture/books/26542/sensible-swoons/\n",
      "http://web.archive.org/web/20170314171018/http://www.huffingtonpost.com/2012/04/02/national-poetry-month-eileen-myles_n_1397616.html\n",
      "http://web.archive.org/web/20160916192726/http://temporaryartreview.com/the-sacred-and-profane-love-machine-an-interview-with-susan-bee/\n",
      "http://web.archive.org/web/20170908133904/http://netpoetic.com:80/\n",
      "http://web.archive.org/web/20160303165856/http://www.durationpress.com/archives/code/codeofsignals.pdf\n",
      "http://web.archive.org/web/20001018213908/http://www.durationpress.com:80/burningdeck/index2.html\n",
      "http://web.archive.org/web/20160404194057/http://www.durationpress.com:80/authors/kwaldrop/ladstinhero.htm\n",
      "http://web.archive.org/web/20180728223321/https://hyperallergic.com/435959/mira-schor-susan-bee-meaning/\n",
      "http://web.archive.org/web/20150818170449/http://durationpress.com/archives/kwaldrop/gardenof/the%20garden%20of%20effort.pdf\n",
      "{\"url\": \"http://pathfinder.com/@@hdr*ogYAfJS4Fwu7/cgi-bin/VG/vg\", \"archived_snapshots\": {}}\n",
      "http://web.archive.org/web/20160404203834/http://www.durationpress.com:80/authors/kwaldrop/turningroad.html\n",
      "http://web.archive.org/web/20171224122655/http://cyborgmanifesto.org:80/\n",
      "http://web.archive.org/web/20171106074001/http://therumpus.net/2012/04/national-poetry-month-day-13-15-minutes-by-eileen-myles/\n",
      "http://web.archive.org/web/20111220152946/http://www.durationpress.com/kenning/\n",
      "http://web.archive.org/web/20171219074022/http://www.durationpress.com:80/authors/ratcliffe/\n",
      "http://web.archive.org/web/20100916235009/http://www.missionoflove.com:80/lovetest\n",
      "{\"url\": \"http://pathfinder.com/@@hdr*ogYAfJS4Fwu7/cgi-bin/VG/vg\", \"archived_snapshots\": {}}\n",
      "http://web.archive.org/web/20061023084028/http://www.durationpress.com:80/crayon/\n",
      "http://web.archive.org/web/20100427191354/http://www.testreading.org/ROUTE3.pdf\n",
      "http://web.archive.org/web/20060708124607/http://www.soton.ac.uk:80/~bepc/\n",
      "http://web.archive.org/web/20131108161520/http://www.durationpress.com:80/abend/authenticizing.htm\n",
      "http://web.archive.org/web/20001018213908/http://www.durationpress.com:80/burningdeck/index2.html\n",
      "http://web.archive.org/web/20130704173503/http://www.tabletmag.com/arts-and-culture/books/38722/midrashic-sensibility/\n",
      "http://web.archive.org/web/20171106073959/http://therumpus.net/2012/04/the-body-place-is-a-thinking-place/\n",
      "http://web.archive.org/web/20060612235532/http://www.tougherdisguises.com:80/\n",
      "http://web.archive.org/web/20151028193454/http://www.somethingonpaper.org/hejinian/\n",
      "http://web.archive.org/web/20151028195647/http://www.somethingonpaper.org/lyn-hejinian-intention-selection-and-fantastic-philosophy/\n",
      "{\"url\": \"http://lesliescalapino.com/\", \"archived_snapshots\": {}}\n",
      "http://web.archive.org/web/20120205211852/http://www.durationpress.com/thefigures/\n",
      "http://web.archive.org/web/20060612213258/http://www.grammatron.com:80/\n",
      "http://web.archive.org/web/20061023084028/http://www.durationpress.com:80/crayon/\n",
      "http://web.archive.org/web/20111220152946/http://www.durationpress.com/kenning/\n",
      "{\"url\": \"http://womr.org/podcast/artist-susan-bee/\", \"archived_snapshots\": {}}\n",
      "http://web.archive.org/web/20131108162340/http://www.durationpress.com:80/abend/spelt.htm\n",
      "http://web.archive.org/web/20110228024417/http://www.quattrobooks.ca/books.html\n",
      "http://web.archive.org/web/20001020104711/http://www.durationpress.com:80/kenning/Mac_Low.html\n",
      "http://web.archive.org/web/20060708220018/http://www.durationpress.com:80/authors/rwaldrop/cosmogony.html\n"
     ]
    }
   ],
   "source": [
    "from urllib.request import urlopen\n",
    "import json\n",
    "import random\n",
    "\n",
    "urls = urls_403\n",
    "\n",
    "random.shuffle(urls)\n",
    "\n",
    "url_dict = {}\n",
    "\n",
    "for url in urls:\n",
    "    api_url = 'https://archive.org/wayback/available?url=' + url\n",
    "    try:\n",
    "        page = urlopen(api_url).read().decode('utf8')\n",
    "    except Exception as e:\n",
    "        print(e)\n",
    "        print(api_url)\n",
    "    json_object = json.loads(page)\n",
    "    try:\n",
    "        wayback_url = json_object['archived_snapshots']['closest']['url']\n",
    "        print(wayback_url)\n",
    "        url_dict[url] = wayback_url\n",
    "    except:\n",
    "        try:\n",
    "            api_url = 'https://archive.org/wayback/available?url=' + json_object['url']\n",
    "            page2 = urlopen(api_url).read().decode('utf8')\n",
    "            json_object = json.loads(page2)\n",
    "            wayback_url = json_object['archived_snapshots']['closest']['url']\n",
    "            print(wayback_url)\n",
    "            url_dict[url] = wayback_url\n",
    "        except:\n",
    "            print(page)"
   ]
  },
  {
   "cell_type": "code",
   "execution_count": null,
   "metadata": {},
   "outputs": [],
   "source": []
  },
  {
   "cell_type": "code",
   "execution_count": null,
   "metadata": {},
   "outputs": [],
   "source": [
    "\n",
    "urls_301 = []\n",
    "\n",
    "for row in urls_lol:\n",
    "    if row[3]!='':\n",
    "        urls_301.append(row[0])\n",
    "\n",
    "urls_301 = sorted(urls_301)\n",
    "            \n",
    "len(urls_301)"
   ]
  },
  {
   "cell_type": "code",
   "execution_count": null,
   "metadata": {},
   "outputs": [],
   "source": [
    "import requests\n",
    "\n",
    "url_301_dict = {}\n",
    "\n",
    "for url in urls_301:\n",
    "    try:\n",
    "        r = requests.head(url)\n",
    "        if r.status_code in (301, 302, 303, 304):\n",
    "            url_301_dict[url] = r.headers['Location'] ######## <-------------------\n",
    "    except Exception as e:\n",
    "        print(e)"
   ]
  },
  {
   "cell_type": "code",
   "execution_count": null,
   "metadata": {},
   "outputs": [],
   "source": [
    "for key in url_301_dict:\n",
    "    if url_301_dict[key] != key:\n",
    "        print(key)\n",
    "        print(url_301_dict[key])\n",
    "        print('---')"
   ]
  },
  {
   "cell_type": "code",
   "execution_count": null,
   "metadata": {},
   "outputs": [],
   "source": [
    "#header\n",
    "\n",
    "header_2 = ['url', 'linked from', 'server response', 'redirect link', 'replacement link']\n",
    "\n",
    "header_2"
   ]
  },
  {
   "cell_type": "code",
   "execution_count": null,
   "metadata": {},
   "outputs": [],
   "source": [
    "urls_lol_2 = []\n",
    "\n",
    "for row in urls_lol:\n",
    "    temp_row = row\n",
    "    if row[3]!='':\n",
    "        try: temp_row[3] = url_301_dict[row[3]]\n",
    "        except: pass\n",
    "    if row[2] in ('404', 'dead'):\n",
    "        try: temp_row[4] = url_dict[row[0]]\n",
    "        except: pass\n",
    "    urls_lol_2.append(temp_row)"
   ]
  },
  {
   "cell_type": "code",
   "execution_count": null,
   "metadata": {},
   "outputs": [],
   "source": [
    "random.sample(urls_lol_2, 10)"
   ]
  },
  {
   "cell_type": "code",
   "execution_count": null,
   "metadata": {},
   "outputs": [],
   "source": [
    "import csv\n",
    "\n",
    "with open('EPC_Link_Status_Table.csv', 'w') as fo:\n",
    "    csv_writer = csv.writer(fo)\n",
    "    csv_writer.writerow(header_2)\n",
    "    csv_writer.writerows(urls_lol_2)"
   ]
  },
  {
   "cell_type": "code",
   "execution_count": null,
   "metadata": {},
   "outputs": [],
   "source": [
    "!wc -l 'EPC_Link_Status_Table.csv'"
   ]
  },
  {
   "cell_type": "code",
   "execution_count": null,
   "metadata": {},
   "outputs": [],
   "source": []
  }
 ],
 "metadata": {
  "kernelspec": {
   "display_name": "Python 3",
   "language": "python",
   "name": "python3"
  },
  "language_info": {
   "codemirror_mode": {
    "name": "ipython",
    "version": 3
   },
   "file_extension": ".py",
   "mimetype": "text/x-python",
   "name": "python",
   "nbconvert_exporter": "python",
   "pygments_lexer": "ipython3",
   "version": "3.6.5"
  }
 },
 "nbformat": 4,
 "nbformat_minor": 2
}
