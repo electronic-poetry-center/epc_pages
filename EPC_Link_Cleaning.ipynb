{
 "cells": [
  {
   "cell_type": "code",
   "execution_count": null,
   "metadata": {},
   "outputs": [],
   "source": [
    "import requests\n",
    "import time\n",
    "import os\n",
    "import numpy as np\n",
    "import subprocess\n",
    "from operator import itemgetter\n",
    "import glob\n",
    "import random\n",
    "import fnmatch\n",
    "import itertools\n",
    "from bs4 import BeautifulSoup\n",
    "from urllib.request import urlopen\n",
    "\n",
    "repo_pathname = '/media/smcl/Audio/epc_pages/'\n",
    "\n",
    "os.chdir(repo_pathname)\n",
    "\n",
    "!ls"
   ]
  },
  {
   "cell_type": "code",
   "execution_count": null,
   "metadata": {},
   "outputs": [],
   "source": [
    "import csv\n",
    "\n",
    "urls_lol = []\n",
    "\n",
    "row_set = set()\n",
    "\n",
    "with open('EPC_Link_Status_Table.csv') as fi:\n",
    "    csv_reader = csv.reader(fi)\n",
    "    for row in csv_reader:\n",
    "        if '|'.join(row[:2]) not in row_set:   ### Removing duplicates\n",
    "            urls_lol.append(row)\n",
    "            row_set.add('|'.join(row[:2]))\n",
    "\n",
    "header = urls_lol[0]\n",
    "urls_lol = urls_lol[1:]        \n",
    "\n",
    "len(urls_lol)"
   ]
  },
  {
   "cell_type": "code",
   "execution_count": null,
   "metadata": {},
   "outputs": [],
   "source": [
    "random.choice(urls_lol)"
   ]
  },
  {
   "cell_type": "code",
   "execution_count": null,
   "metadata": {},
   "outputs": [],
   "source": [
    "import csv\n",
    "\n",
    "urls_404 = []\n",
    "\n",
    "for row in urls_lol:\n",
    "    if row[2] in ('404', 'dead'):\n",
    "        urls_404.append(row[0])\n",
    "\n",
    "urls_404 = sorted(urls_404)\n",
    "            \n",
    "len(urls_404)"
   ]
  },
  {
   "cell_type": "code",
   "execution_count": null,
   "metadata": {},
   "outputs": [],
   "source": [
    "from urllib.request import urlopen\n",
    "import json\n",
    "import random\n",
    "\n",
    "urls = urls_404\n",
    "\n",
    "random.shuffle(urls)\n",
    "\n",
    "url_dict = {}\n",
    "\n",
    "for url in urls_404:\n",
    "    api_url = 'https://archive.org/wayback/available?url=' + url\n",
    "    try:\n",
    "        page = urlopen(api_url).read().decode('utf8')\n",
    "    except Exception as e:\n",
    "        print(e)\n",
    "        print(api_url)\n",
    "    json_object = json.loads(page)\n",
    "    try:\n",
    "        wayback_url = json_object['archived_snapshots']['closest']['url']\n",
    "        print(wayback_url)\n",
    "        url_dict[url] = wayback_url\n",
    "    except:\n",
    "        try:\n",
    "            api_url = 'https://archive.org/wayback/available?url=' + json_object['url']\n",
    "            page2 = urlopen(api_url).read().decode('utf8')\n",
    "            json_object = json.loads(page2)\n",
    "            wayback_url = json_object['archived_snapshots']['closest']['url']\n",
    "            print(wayback_url)\n",
    "            url_dict[url] = wayback_url\n",
    "        except:\n",
    "            print(page)"
   ]
  },
  {
   "cell_type": "code",
   "execution_count": null,
   "metadata": {},
   "outputs": [],
   "source": [
    "!cp EPC_Link_Status_Table.csv EPC_Link_Status_Table_backup.csv"
   ]
  },
  {
   "cell_type": "code",
   "execution_count": null,
   "metadata": {},
   "outputs": [],
   "source": [
    "\n",
    "urls_301 = []\n",
    "\n",
    "for row in urls_lol:\n",
    "    if row[3]!='':\n",
    "        urls_301.append(row[0])\n",
    "\n",
    "urls_301 = sorted(urls_301)\n",
    "            \n",
    "len(urls_301)"
   ]
  },
  {
   "cell_type": "code",
   "execution_count": null,
   "metadata": {},
   "outputs": [],
   "source": [
    "import requests\n",
    "\n",
    "url_301_dict = {}\n",
    "\n",
    "for url in urls_301:\n",
    "    try:\n",
    "        r = requests.head(url)\n",
    "        if r.status_code in (301, 302, 303, 304):\n",
    "            url_301_dict[url] = r.headers['Location'] ######## <-------------------\n",
    "    except Exception as e:\n",
    "        print(e)"
   ]
  },
  {
   "cell_type": "code",
   "execution_count": null,
   "metadata": {},
   "outputs": [],
   "source": [
    "for key in url_301_dict:\n",
    "    if url_301_dict[key] != key:\n",
    "        print(key)\n",
    "        print(url_301_dict[key])\n",
    "        print('---')"
   ]
  },
  {
   "cell_type": "code",
   "execution_count": null,
   "metadata": {},
   "outputs": [],
   "source": [
    "#header\n",
    "\n",
    "header_2 = ['url', 'linked from', 'server response', 'redirect link', 'replacement link']\n",
    "\n",
    "header_2"
   ]
  },
  {
   "cell_type": "code",
   "execution_count": null,
   "metadata": {},
   "outputs": [],
   "source": [
    "urls_lol_2 = []\n",
    "\n",
    "for row in urls_lol:\n",
    "    temp_row = row + ['']\n",
    "    if row[3]!='':\n",
    "        try: temp_row[3] = url_301_dict[row[3]]\n",
    "        except: pass\n",
    "    if row[2] in ('404', 'dead'):\n",
    "        try: temp_row[4] = url_dict[row[0]]\n",
    "        except: pass\n",
    "    urls_lol_2.append(temp_row)"
   ]
  },
  {
   "cell_type": "code",
   "execution_count": null,
   "metadata": {},
   "outputs": [],
   "source": [
    "random.sample(urls_lol_2, 10)"
   ]
  },
  {
   "cell_type": "code",
   "execution_count": null,
   "metadata": {},
   "outputs": [],
   "source": [
    "import csv\n",
    "\n",
    "with open('EPC_Link_Status_Table.csv', 'w') as fo:\n",
    "    csv_writer = csv.writer(fo)\n",
    "    csv_writer.writerow(header_2)\n",
    "    csv_writer.writerows(urls_lol_2)"
   ]
  },
  {
   "cell_type": "code",
   "execution_count": null,
   "metadata": {},
   "outputs": [],
   "source": [
    "!wc -l 'EPC_Link_Status_Table.csv'"
   ]
  },
  {
   "cell_type": "code",
   "execution_count": null,
   "metadata": {},
   "outputs": [],
   "source": []
  }
 ],
 "metadata": {
  "kernelspec": {
   "display_name": "Python 3",
   "language": "python",
   "name": "python3"
  },
  "language_info": {
   "codemirror_mode": {
    "name": "ipython",
    "version": 3
   },
   "file_extension": ".py",
   "mimetype": "text/x-python",
   "name": "python",
   "nbconvert_exporter": "python",
   "pygments_lexer": "ipython3",
   "version": "3.6.5"
  }
 },
 "nbformat": 4,
 "nbformat_minor": 2
}
